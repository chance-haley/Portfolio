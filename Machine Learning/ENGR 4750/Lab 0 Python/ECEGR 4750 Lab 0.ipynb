{
 "cells": [
  {
   "cell_type": "markdown",
   "id": "999e23aa",
   "metadata": {},
   "source": [
    "<h1>ECEGR 4750 Lab 0_Chance_Haley </h1>\n",
    "\n",
    "Write a Python script that asks the user to enter a year between 1 and 3199, inclusive, and\n",
    "tells the user whether that was or will be a leap year or not."
   ]
  },
  {
   "cell_type": "code",
   "execution_count": 12,
   "id": "9dda5968",
   "metadata": {
    "scrolled": true
   },
   "outputs": [
    {
     "name": "stdout",
     "output_type": "stream",
     "text": [
      "Enter a year.1900\n",
      "False\n"
     ]
    }
   ],
   "source": [
    "def leap_year():\n",
    "    year = int(input(\"Enter a year.\"))\n",
    "    output = year%4==0 and (year%100!=0 or year%400==0) \n",
    "    print (output)\n",
    "leap_year()"
   ]
  },
  {
   "cell_type": "markdown",
   "id": "ed65b847",
   "metadata": {},
   "source": [
    "Use a while loop to present the user with a multiple-correct multiple-choice question and\n",
    "evaluate their response."
   ]
  },
  {
   "cell_type": "code",
   "execution_count": 6,
   "id": "fbbc2b1b",
   "metadata": {},
   "outputs": [
    {
     "name": "stdout",
     "output_type": "stream",
     "text": [
      "Please pick the 3 hardest majors below. \n",
      " a. Physics \n",
      " b. Business \n",
      " c. Organizational Leadership \n",
      " d. Computer Engineering \n",
      " e. Chemical Engineering\n",
      "Please enter your answer as a lowercase letter. ex. \"a\" a\n",
      "That is correct! Try to guess the other 3 answers! \n",
      "\n",
      "Please pick the 3 hardest majors below. \n",
      " a. Physics \n",
      " b. Business \n",
      " c. Organizational Leadership \n",
      " d. Computer Engineering \n",
      " e. Chemical Engineering\n",
      "Please enter your answer as a lowercase letter. ex. \"a\" a\n",
      "That was an incorrect guess, you may try again. \n",
      "\n",
      "Please pick the 3 hardest majors below. \n",
      " a. Physics \n",
      " b. Business \n",
      " c. Organizational Leadership \n",
      " d. Computer Engineering \n",
      " e. Chemical Engineering\n",
      "Please enter your answer as a lowercase letter. ex. \"a\" b\n",
      "That was an incorrect guess, you may try again. \n",
      "\n",
      "Please pick the 3 hardest majors below. \n",
      " a. Physics \n",
      " b. Business \n",
      " c. Organizational Leadership \n",
      " d. Computer Engineering \n",
      " e. Chemical Engineering\n",
      "Please enter your answer as a lowercase letter. ex. \"a\" c\n",
      "That was an incorrect guess, you may try again. \n",
      "\n",
      "Please pick the 3 hardest majors below. \n",
      " a. Physics \n",
      " b. Business \n",
      " c. Organizational Leadership \n",
      " d. Computer Engineering \n",
      " e. Chemical Engineering\n",
      "Please enter your answer as a lowercase letter. ex. \"a\" d\n",
      "That is correct! Try to guess the other 2 answers! \n",
      "\n",
      "Please pick the 3 hardest majors below. \n",
      " a. Physics \n",
      " b. Business \n",
      " c. Organizational Leadership \n",
      " d. Computer Engineering \n",
      " e. Chemical Engineering\n",
      "Please enter your answer as a lowercase letter. ex. \"a\" e\n",
      "That is correct! Try to guess the other 1 answers! \n",
      "\n",
      "Congratulations you got all the correct answers!\n"
     ]
    }
   ],
   "source": [
    "def best_major():\n",
    "    score = 0\n",
    "    answers = [\"a\", \"d\", \"e\"]\n",
    "    while score < 3:\n",
    "        print (\"Please pick the 3 hardest majors below. \\n a. Physics \\n b. Business \\n c. Organizational Leadership \\n d. Computer Engineering \\n e. Chemical Engineering\")\n",
    "        choice = input(\"Please enter your answer as a lowercase letter. ex. \\\"a\\\" \")\n",
    "        if choice not in [\"a\",\"b\",\"c\",\"d\",\"e\"]:\n",
    "            print(\"invalid choice. \\n\")\n",
    "        else:\n",
    "            if choice in answers:\n",
    "                score += 1\n",
    "                listsize = len(answers)\n",
    "                answers.remove(choice)\n",
    "                print(\"That is correct! Try to guess the other \" + str(listsize) + \" answers! \\n\")\n",
    "            else:\n",
    "                print(\"That was an incorrect guess, you may try again. \\n\")\n",
    "    print(\"Congratulations you got all the correct answers!\")\n",
    "    \n",
    "best_major()"
   ]
  },
  {
   "cell_type": "code",
   "execution_count": 12,
   "id": "ba3b9828",
   "metadata": {},
   "outputs": [
    {
     "name": "stdout",
     "output_type": "stream",
     "text": [
      "Max:96\n",
      "Min:5\n",
      "Max without formatting: 96\n",
      "Min without formatting: 5\n"
     ]
    }
   ],
   "source": [
    "import numpy as np\n",
    "dataset1 = [85,62,78,64,25,12,74,96,63,45,78,20,5,30,45,78,45,96,65,45,74,12,78,23,8]\n",
    "max = np.max(dataset1)\n",
    "print(\"Max:{0:d}\".format(max))\n",
    "min = np.min(dataset1)\n",
    "print(\"Min:{0:d}\".format(min))\n",
    "max1 = np.max(dataset1)\n",
    "print(\"Max without formatting: \" + str(max))\n",
    "min1 = np.min(dataset1)\n",
    "print(\"Min without formatting: \" + str(min))"
   ]
  },
  {
   "cell_type": "markdown",
   "id": "cd3a817a",
   "metadata": {},
   "source": [
    "Above is the same function (max and min) with two different formatting types"
   ]
  }
 ],
 "metadata": {
  "kernelspec": {
   "display_name": "Python 3 (ipykernel)",
   "language": "python",
   "name": "python3"
  },
  "language_info": {
   "codemirror_mode": {
    "name": "ipython",
    "version": 3
   },
   "file_extension": ".py",
   "mimetype": "text/x-python",
   "name": "python",
   "nbconvert_exporter": "python",
   "pygments_lexer": "ipython3",
   "version": "3.9.12"
  }
 },
 "nbformat": 4,
 "nbformat_minor": 5
}
